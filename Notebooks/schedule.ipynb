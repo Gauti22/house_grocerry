{
 "cells": [
  {
   "cell_type": "code",
   "execution_count": 1,
   "metadata": {},
   "outputs": [],
   "source": [
    "import pandas as pd\n",
    "import numpy as np"
   ]
  },
  {
   "cell_type": "code",
   "execution_count": 2,
   "metadata": {},
   "outputs": [],
   "source": [
    "data=pd.read_csv('/Users/gautammehta/Downloads/GroceryList.xlsx - Daily meal plan.csv')"
   ]
  },
  {
   "cell_type": "code",
   "execution_count": 3,
   "metadata": {},
   "outputs": [
    {
     "data": {
      "text/html": [
       "<div>\n",
       "<style scoped>\n",
       "    .dataframe tbody tr th:only-of-type {\n",
       "        vertical-align: middle;\n",
       "    }\n",
       "\n",
       "    .dataframe tbody tr th {\n",
       "        vertical-align: top;\n",
       "    }\n",
       "\n",
       "    .dataframe thead th {\n",
       "        text-align: right;\n",
       "    }\n",
       "</style>\n",
       "<table border=\"1\" class=\"dataframe\">\n",
       "  <thead>\n",
       "    <tr style=\"text-align: right;\">\n",
       "      <th></th>\n",
       "      <th>Days</th>\n",
       "      <th>DATE</th>\n",
       "      <th>Breakfast</th>\n",
       "      <th>Breakfast_Assigned</th>\n",
       "      <th>Lunch</th>\n",
       "      <th>lunch_Assigned</th>\n",
       "      <th>Dinner</th>\n",
       "      <th>dinner_Assigned</th>\n",
       "    </tr>\n",
       "  </thead>\n",
       "  <tbody>\n",
       "    <tr>\n",
       "      <th>0</th>\n",
       "      <td>1</td>\n",
       "      <td>August/18/2025</td>\n",
       "      <td>Cheela</td>\n",
       "      <td>Jatin</td>\n",
       "      <td>Mushroom + Roti</td>\n",
       "      <td>Gautam</td>\n",
       "      <td>Rajma +Roti</td>\n",
       "      <td>Vanshika</td>\n",
       "    </tr>\n",
       "    <tr>\n",
       "      <th>1</th>\n",
       "      <td>2</td>\n",
       "      <td>August/19/2015</td>\n",
       "      <td>Dosa</td>\n",
       "      <td>Gautam</td>\n",
       "      <td>aloo matar rice</td>\n",
       "      <td>Vanshika</td>\n",
       "      <td>panner burji + roti</td>\n",
       "      <td>Jatin</td>\n",
       "    </tr>\n",
       "    <tr>\n",
       "      <th>2</th>\n",
       "      <td>3</td>\n",
       "      <td>August/20/2015</td>\n",
       "      <td>NaN</td>\n",
       "      <td>NaN</td>\n",
       "      <td>NaN</td>\n",
       "      <td>NaN</td>\n",
       "      <td>NaN</td>\n",
       "      <td>NaN</td>\n",
       "    </tr>\n",
       "    <tr>\n",
       "      <th>3</th>\n",
       "      <td>4</td>\n",
       "      <td>August/21/2015</td>\n",
       "      <td>NaN</td>\n",
       "      <td>NaN</td>\n",
       "      <td>NaN</td>\n",
       "      <td>NaN</td>\n",
       "      <td>NaN</td>\n",
       "      <td>NaN</td>\n",
       "    </tr>\n",
       "    <tr>\n",
       "      <th>4</th>\n",
       "      <td>5</td>\n",
       "      <td>August/22/2015</td>\n",
       "      <td>NaN</td>\n",
       "      <td>NaN</td>\n",
       "      <td>NaN</td>\n",
       "      <td>NaN</td>\n",
       "      <td>NaN</td>\n",
       "      <td>NaN</td>\n",
       "    </tr>\n",
       "  </tbody>\n",
       "</table>\n",
       "</div>"
      ],
      "text/plain": [
       "   Days            DATE Breakfast Breakfast_Assigned            Lunch  \\\n",
       "0     1  August/18/2025    Cheela              Jatin  Mushroom + Roti   \n",
       "1     2  August/19/2015      Dosa             Gautam  aloo matar rice   \n",
       "2     3  August/20/2015       NaN                NaN              NaN   \n",
       "3     4  August/21/2015       NaN                NaN              NaN   \n",
       "4     5  August/22/2015       NaN                NaN              NaN   \n",
       "\n",
       "  lunch_Assigned               Dinner dinner_Assigned  \n",
       "0         Gautam          Rajma +Roti        Vanshika  \n",
       "1       Vanshika  panner burji + roti           Jatin  \n",
       "2            NaN                  NaN             NaN  \n",
       "3            NaN                  NaN             NaN  \n",
       "4            NaN                  NaN             NaN  "
      ]
     },
     "execution_count": 3,
     "metadata": {},
     "output_type": "execute_result"
    }
   ],
   "source": [
    "data.head(5)"
   ]
  },
  {
   "cell_type": "code",
   "execution_count": 4,
   "metadata": {},
   "outputs": [],
   "source": [
    "data.drop(columns=['DATE','Days'],inplace=True)"
   ]
  },
  {
   "cell_type": "code",
   "execution_count": 5,
   "metadata": {},
   "outputs": [],
   "source": [
    "df=data[['Breakfast_Assigned','lunch_Assigned','dinner_Assigned']]"
   ]
  },
  {
   "cell_type": "code",
   "execution_count": 6,
   "metadata": {},
   "outputs": [
    {
     "name": "stderr",
     "output_type": "stream",
     "text": [
      "/var/folders/82/fhbz1rdx6fl8gc4pzrdbs77w0000gn/T/ipykernel_77514/865977043.py:1: SettingWithCopyWarning: \n",
      "A value is trying to be set on a copy of a slice from a DataFrame\n",
      "\n",
      "See the caveats in the documentation: https://pandas.pydata.org/pandas-docs/stable/user_guide/indexing.html#returning-a-view-versus-a-copy\n",
      "  df.rename(columns={'Breakfast_Assigned':'Breakfast','lunch_Assigned':'Lunch','dinner_Assigned':'Dinner'},inplace=True)\n"
     ]
    }
   ],
   "source": [
    "df.rename(columns={'Breakfast_Assigned':'Breakfast','lunch_Assigned':'Lunch','dinner_Assigned':'Dinner'},inplace=True)"
   ]
  },
  {
   "cell_type": "code",
   "execution_count": 7,
   "metadata": {},
   "outputs": [],
   "source": [
    "long = df.melt(var_name='Meal', value_name='Assigned')"
   ]
  },
  {
   "cell_type": "code",
   "execution_count": 8,
   "metadata": {},
   "outputs": [
    {
     "data": {
      "text/html": [
       "<div>\n",
       "<style scoped>\n",
       "    .dataframe tbody tr th:only-of-type {\n",
       "        vertical-align: middle;\n",
       "    }\n",
       "\n",
       "    .dataframe tbody tr th {\n",
       "        vertical-align: top;\n",
       "    }\n",
       "\n",
       "    .dataframe thead th {\n",
       "        text-align: right;\n",
       "    }\n",
       "</style>\n",
       "<table border=\"1\" class=\"dataframe\">\n",
       "  <thead>\n",
       "    <tr style=\"text-align: right;\">\n",
       "      <th>Meal</th>\n",
       "      <th>Breakfast</th>\n",
       "      <th>Lunch</th>\n",
       "      <th>Dinner</th>\n",
       "    </tr>\n",
       "    <tr>\n",
       "      <th>Assigned</th>\n",
       "      <th></th>\n",
       "      <th></th>\n",
       "      <th></th>\n",
       "    </tr>\n",
       "  </thead>\n",
       "  <tbody>\n",
       "    <tr>\n",
       "      <th>Gautam</th>\n",
       "      <td>1</td>\n",
       "      <td>1</td>\n",
       "      <td>0</td>\n",
       "    </tr>\n",
       "    <tr>\n",
       "      <th>Jatin</th>\n",
       "      <td>1</td>\n",
       "      <td>0</td>\n",
       "      <td>1</td>\n",
       "    </tr>\n",
       "    <tr>\n",
       "      <th>Vanshika</th>\n",
       "      <td>0</td>\n",
       "      <td>1</td>\n",
       "      <td>1</td>\n",
       "    </tr>\n",
       "  </tbody>\n",
       "</table>\n",
       "</div>"
      ],
      "text/plain": [
       "Meal      Breakfast  Lunch  Dinner\n",
       "Assigned                          \n",
       "Gautam            1      1       0\n",
       "Jatin             1      0       1\n",
       "Vanshika          0      1       1"
      ]
     },
     "execution_count": 8,
     "metadata": {},
     "output_type": "execute_result"
    }
   ],
   "source": [
    "pivot = pd.crosstab(long['Assigned'], long['Meal']) \n",
    "pivot = pivot.reindex(index=['Gautam','Jatin','Vanshika'],\n",
    "                      columns=['Breakfast','Lunch','Dinner'],\n",
    "                      fill_value=0)\n",
    "pivot"
   ]
  },
  {
   "cell_type": "code",
   "execution_count": 99,
   "metadata": {},
   "outputs": [
    {
     "data": {
      "text/plain": [
       "3"
      ]
     },
     "execution_count": 99,
     "metadata": {},
     "output_type": "execute_result"
    }
   ],
   "source": [
    "data1=pd.read_csv('/Users/gautammehta/Downloads/GroceryList.xlsx - Daily meal plan.csv')\n",
    "df1=data1[['Breakfast','Lunch','Dinner']]\n",
    "df1=df1.melt()\n",
    "df1=df1[~df1['value'].isnull()]\n",
    "# assumes your column is 'value'\n",
    "df1[['dish1','dish2']] = df1['value'].str.capitalize().str.split(r'\\s*\\+\\s*', n=1, expand=True)\n",
    "df1.drop(columns='value',inplace=True)\n",
    "df2 = df1[['variable', 'dish1']].rename(columns={'dish1': 'dish'})\n",
    "df3 = df1[['variable', 'dish2']].rename(columns={'dish2': 'dish'})\n",
    "df3=df3[~df3['dish'].isna()]\n",
    "union_all = pd.concat([df2, df3], ignore_index=True)\n",
    "union_all['dish']=pd.Series(union_all['dish'].str.capitalize())\n",
    "a=union_all['dish'].value_counts().reset_index()\n",
    "a=a.iloc[:3,:]\n",
    "int(a['count'][0])\n"
   ]
  },
  {
   "cell_type": "code",
   "execution_count": 88,
   "metadata": {},
   "outputs": [
    {
     "data": {
      "text/plain": [
       "dish     Roti\n",
       "count       3\n",
       "Name: 0, dtype: object"
      ]
     },
     "execution_count": 88,
     "metadata": {},
     "output_type": "execute_result"
    }
   ],
   "source": [
    "\n"
   ]
  }
 ],
 "metadata": {
  "kernelspec": {
   "display_name": "venv",
   "language": "python",
   "name": "python3"
  },
  "language_info": {
   "codemirror_mode": {
    "name": "ipython",
    "version": 3
   },
   "file_extension": ".py",
   "mimetype": "text/x-python",
   "name": "python",
   "nbconvert_exporter": "python",
   "pygments_lexer": "ipython3",
   "version": "3.13.5"
  }
 },
 "nbformat": 4,
 "nbformat_minor": 2
}
